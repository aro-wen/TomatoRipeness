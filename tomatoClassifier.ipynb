{
 "cells": [
  {
   "cell_type": "code",
   "execution_count": null,
   "id": "76271a29",
   "metadata": {},
   "outputs": [
    {
     "name": "stdout",
     "output_type": "stream",
     "text": [
      "Predicted ripeness: half_ripened\n"
     ]
    }
   ],
   "source": [
    "from pathlib import Path\n",
    "import json, cv2, numpy as np\n",
    "from joblib import load\n",
    "\n",
    "# === paths (edit if needed) ===\n",
    "DATA_ROOT = Path(r\"C:\\Users\\ACER NITRO 5 GAMING\\.cache\\kagglehub\\datasets\\nexuswho\\laboro-tomato\\versions\\5\")\n",
    "ANN = json.loads((DATA_ROOT/\"annotations\"/\"test.json\").read_text())   # or \"train.json\"\n",
    "\n",
    "# === load model ===\n",
    "model = load(\"svm_lab.joblib\")\n",
    "le    = load(\"label_encoder.joblib\")\n",
    "\n",
    "def extract_lab_features(bgr_img, mask_bool):\n",
    "    lab = cv2.cvtColor(bgr_img, cv2.COLOR_BGR2LAB)\n",
    "    if mask_bool is None: mask_bool = np.ones(lab.shape[:2], dtype=bool)\n",
    "    if mask_bool.sum() < 10: return None\n",
    "    L = lab[:,:,0][mask_bool].astype(np.float32)\n",
    "    a = lab[:,:,1][mask_bool].astype(np.float32)\n",
    "    b = lab[:,:,2][mask_bool].astype(np.float32)\n",
    "    return np.array([L.mean(), L.std()+1e-6, a.mean(), a.std()+1e-6, b.mean(), b.std()+1e-6], dtype=np.float32)\n",
    "\n",
    "def bbox_to_mask(h, w, bbox):\n",
    "    x,y,bw,bh = bbox\n",
    "    x0,y0,x1,y1 = int(x), int(y), int(x+bw), int(y+bh)\n",
    "    m = np.zeros((h,w), dtype=bool)\n",
    "    m[y0:y1, x0:x1] = True\n",
    "    return m\n",
    "\n",
    "# pick one image & its first annotation\n",
    "img_info = ANN[\"images\"][0]\n",
    "# your dump: test.json images are under val/images; train.json under train/images\n",
    "img_path = DATA_ROOT / (\"val/images\" if (DATA_ROOT/\"val/images\").exists() else \"test/images\") / img_info[\"file_name\"]\n",
    "im = cv2.imread(str(img_path))\n",
    "\n",
    "anns = [a for a in ANN[\"annotations\"] if a[\"image_id\"] == img_info[\"id\"]]\n",
    "ann = anns[0]\n",
    "mask = bbox_to_mask(im.shape[0], im.shape[1], ann[\"bbox\"])\n",
    "feats = extract_lab_features(im, mask).reshape(1,-1)\n",
    "\n",
    "pred_idx = model.predict(feats)[0]\n",
    "pred_label = le.inverse_transform([pred_idx])[0]\n",
    "print(\"Predicted ripeness:\", pred_label)\n",
    "\n",
    "# visualize\n",
    "x,y,w,h = map(int, ann[\"bbox\"])\n",
    "cv2.rectangle(im, (x,y), (x+w, y+h), (0,255,0), 2)\n",
    "cv2.putText(im, pred_label, (x, max(10,y-5)), cv2.FONT_HERSHEY_SIMPLEX, 0.8, (0,255,0), 2, cv2.LINE_AA)\n",
    "cv2.imshow(\"Prediction\", im); cv2.waitKey(0)\n"
   ]
  }
 ],
 "metadata": {
  "kernelspec": {
   "display_name": "svm_venv",
   "language": "python",
   "name": "python3"
  },
  "language_info": {
   "codemirror_mode": {
    "name": "ipython",
    "version": 3
   },
   "file_extension": ".py",
   "mimetype": "text/x-python",
   "name": "python",
   "nbconvert_exporter": "python",
   "pygments_lexer": "ipython3",
   "version": "3.10.11"
  }
 },
 "nbformat": 4,
 "nbformat_minor": 5
}
